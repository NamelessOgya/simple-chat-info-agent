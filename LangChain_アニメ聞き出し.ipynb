{
  "cells": [
    {
      "cell_type": "markdown",
      "metadata": {
        "id": "view-in-github",
        "colab_type": "text"
      },
      "source": [
        "<a href=\"https://colab.research.google.com/github/NamelessOgya/simple-chat-info-agent/blob/main/LangChain_%E3%82%A2%E3%83%8B%E3%83%A1%E8%81%9E%E3%81%8D%E5%87%BA%E3%81%97.ipynb\" target=\"_parent\"><img src=\"https://colab.research.google.com/assets/colab-badge.svg\" alt=\"Open In Colab\"/></a>"
      ]
    },
    {
      "cell_type": "code",
      "execution_count": 1,
      "metadata": {
        "colab": {
          "base_uri": "https://localhost:8080/"
        },
        "id": "7qmSdJahGRk9",
        "outputId": "d30dbb16-7093-478c-86bd-1c03e894720d"
      },
      "outputs": [
        {
          "output_type": "stream",
          "name": "stdout",
          "text": [
            "Requirement already satisfied: langchain in /usr/local/lib/python3.11/dist-packages (0.3.20)\n",
            "Requirement already satisfied: langchain-core<1.0.0,>=0.3.41 in /usr/local/lib/python3.11/dist-packages (from langchain) (0.3.45)\n",
            "Requirement already satisfied: langchain-text-splitters<1.0.0,>=0.3.6 in /usr/local/lib/python3.11/dist-packages (from langchain) (0.3.6)\n",
            "Requirement already satisfied: langsmith<0.4,>=0.1.17 in /usr/local/lib/python3.11/dist-packages (from langchain) (0.3.15)\n",
            "Requirement already satisfied: pydantic<3.0.0,>=2.7.4 in /usr/local/lib/python3.11/dist-packages (from langchain) (2.10.6)\n",
            "Requirement already satisfied: SQLAlchemy<3,>=1.4 in /usr/local/lib/python3.11/dist-packages (from langchain) (2.0.39)\n",
            "Requirement already satisfied: requests<3,>=2 in /usr/local/lib/python3.11/dist-packages (from langchain) (2.32.3)\n",
            "Requirement already satisfied: PyYAML>=5.3 in /usr/local/lib/python3.11/dist-packages (from langchain) (6.0.2)\n",
            "Requirement already satisfied: tenacity!=8.4.0,<10.0.0,>=8.1.0 in /usr/local/lib/python3.11/dist-packages (from langchain-core<1.0.0,>=0.3.41->langchain) (9.0.0)\n",
            "Requirement already satisfied: jsonpatch<2.0,>=1.33 in /usr/local/lib/python3.11/dist-packages (from langchain-core<1.0.0,>=0.3.41->langchain) (1.33)\n",
            "Requirement already satisfied: packaging<25,>=23.2 in /usr/local/lib/python3.11/dist-packages (from langchain-core<1.0.0,>=0.3.41->langchain) (24.2)\n",
            "Requirement already satisfied: typing-extensions>=4.7 in /usr/local/lib/python3.11/dist-packages (from langchain-core<1.0.0,>=0.3.41->langchain) (4.12.2)\n",
            "Requirement already satisfied: httpx<1,>=0.23.0 in /usr/local/lib/python3.11/dist-packages (from langsmith<0.4,>=0.1.17->langchain) (0.28.1)\n",
            "Requirement already satisfied: orjson<4.0.0,>=3.9.14 in /usr/local/lib/python3.11/dist-packages (from langsmith<0.4,>=0.1.17->langchain) (3.10.15)\n",
            "Requirement already satisfied: requests-toolbelt<2.0.0,>=1.0.0 in /usr/local/lib/python3.11/dist-packages (from langsmith<0.4,>=0.1.17->langchain) (1.0.0)\n",
            "Requirement already satisfied: zstandard<0.24.0,>=0.23.0 in /usr/local/lib/python3.11/dist-packages (from langsmith<0.4,>=0.1.17->langchain) (0.23.0)\n",
            "Requirement already satisfied: annotated-types>=0.6.0 in /usr/local/lib/python3.11/dist-packages (from pydantic<3.0.0,>=2.7.4->langchain) (0.7.0)\n",
            "Requirement already satisfied: pydantic-core==2.27.2 in /usr/local/lib/python3.11/dist-packages (from pydantic<3.0.0,>=2.7.4->langchain) (2.27.2)\n",
            "Requirement already satisfied: charset-normalizer<4,>=2 in /usr/local/lib/python3.11/dist-packages (from requests<3,>=2->langchain) (3.4.1)\n",
            "Requirement already satisfied: idna<4,>=2.5 in /usr/local/lib/python3.11/dist-packages (from requests<3,>=2->langchain) (3.10)\n",
            "Requirement already satisfied: urllib3<3,>=1.21.1 in /usr/local/lib/python3.11/dist-packages (from requests<3,>=2->langchain) (2.3.0)\n",
            "Requirement already satisfied: certifi>=2017.4.17 in /usr/local/lib/python3.11/dist-packages (from requests<3,>=2->langchain) (2025.1.31)\n",
            "Requirement already satisfied: greenlet!=0.4.17 in /usr/local/lib/python3.11/dist-packages (from SQLAlchemy<3,>=1.4->langchain) (3.1.1)\n",
            "Requirement already satisfied: anyio in /usr/local/lib/python3.11/dist-packages (from httpx<1,>=0.23.0->langsmith<0.4,>=0.1.17->langchain) (4.9.0)\n",
            "Requirement already satisfied: httpcore==1.* in /usr/local/lib/python3.11/dist-packages (from httpx<1,>=0.23.0->langsmith<0.4,>=0.1.17->langchain) (1.0.7)\n",
            "Requirement already satisfied: h11<0.15,>=0.13 in /usr/local/lib/python3.11/dist-packages (from httpcore==1.*->httpx<1,>=0.23.0->langsmith<0.4,>=0.1.17->langchain) (0.14.0)\n",
            "Requirement already satisfied: jsonpointer>=1.9 in /usr/local/lib/python3.11/dist-packages (from jsonpatch<2.0,>=1.33->langchain-core<1.0.0,>=0.3.41->langchain) (3.0.0)\n",
            "Requirement already satisfied: sniffio>=1.1 in /usr/local/lib/python3.11/dist-packages (from anyio->httpx<1,>=0.23.0->langsmith<0.4,>=0.1.17->langchain) (1.3.1)\n",
            "Requirement already satisfied: openai in /usr/local/lib/python3.11/dist-packages (1.66.3)\n",
            "Requirement already satisfied: anyio<5,>=3.5.0 in /usr/local/lib/python3.11/dist-packages (from openai) (4.9.0)\n",
            "Requirement already satisfied: distro<2,>=1.7.0 in /usr/local/lib/python3.11/dist-packages (from openai) (1.9.0)\n",
            "Requirement already satisfied: httpx<1,>=0.23.0 in /usr/local/lib/python3.11/dist-packages (from openai) (0.28.1)\n",
            "Requirement already satisfied: jiter<1,>=0.4.0 in /usr/local/lib/python3.11/dist-packages (from openai) (0.9.0)\n",
            "Requirement already satisfied: pydantic<3,>=1.9.0 in /usr/local/lib/python3.11/dist-packages (from openai) (2.10.6)\n",
            "Requirement already satisfied: sniffio in /usr/local/lib/python3.11/dist-packages (from openai) (1.3.1)\n",
            "Requirement already satisfied: tqdm>4 in /usr/local/lib/python3.11/dist-packages (from openai) (4.67.1)\n",
            "Requirement already satisfied: typing-extensions<5,>=4.11 in /usr/local/lib/python3.11/dist-packages (from openai) (4.12.2)\n",
            "Requirement already satisfied: idna>=2.8 in /usr/local/lib/python3.11/dist-packages (from anyio<5,>=3.5.0->openai) (3.10)\n",
            "Requirement already satisfied: certifi in /usr/local/lib/python3.11/dist-packages (from httpx<1,>=0.23.0->openai) (2025.1.31)\n",
            "Requirement already satisfied: httpcore==1.* in /usr/local/lib/python3.11/dist-packages (from httpx<1,>=0.23.0->openai) (1.0.7)\n",
            "Requirement already satisfied: h11<0.15,>=0.13 in /usr/local/lib/python3.11/dist-packages (from httpcore==1.*->httpx<1,>=0.23.0->openai) (0.14.0)\n",
            "Requirement already satisfied: annotated-types>=0.6.0 in /usr/local/lib/python3.11/dist-packages (from pydantic<3,>=1.9.0->openai) (0.7.0)\n",
            "Requirement already satisfied: pydantic-core==2.27.2 in /usr/local/lib/python3.11/dist-packages (from pydantic<3,>=1.9.0->openai) (2.27.2)\n",
            "Collecting langchain-openai\n",
            "  Downloading langchain_openai-0.3.9-py3-none-any.whl.metadata (2.3 kB)\n",
            "Requirement already satisfied: langchain-core<1.0.0,>=0.3.45 in /usr/local/lib/python3.11/dist-packages (from langchain-openai) (0.3.45)\n",
            "Requirement already satisfied: openai<2.0.0,>=1.66.3 in /usr/local/lib/python3.11/dist-packages (from langchain-openai) (1.66.3)\n",
            "Collecting tiktoken<1,>=0.7 (from langchain-openai)\n",
            "  Downloading tiktoken-0.9.0-cp311-cp311-manylinux_2_17_x86_64.manylinux2014_x86_64.whl.metadata (6.7 kB)\n",
            "Requirement already satisfied: langsmith<0.4,>=0.1.125 in /usr/local/lib/python3.11/dist-packages (from langchain-core<1.0.0,>=0.3.45->langchain-openai) (0.3.15)\n",
            "Requirement already satisfied: tenacity!=8.4.0,<10.0.0,>=8.1.0 in /usr/local/lib/python3.11/dist-packages (from langchain-core<1.0.0,>=0.3.45->langchain-openai) (9.0.0)\n",
            "Requirement already satisfied: jsonpatch<2.0,>=1.33 in /usr/local/lib/python3.11/dist-packages (from langchain-core<1.0.0,>=0.3.45->langchain-openai) (1.33)\n",
            "Requirement already satisfied: PyYAML>=5.3 in /usr/local/lib/python3.11/dist-packages (from langchain-core<1.0.0,>=0.3.45->langchain-openai) (6.0.2)\n",
            "Requirement already satisfied: packaging<25,>=23.2 in /usr/local/lib/python3.11/dist-packages (from langchain-core<1.0.0,>=0.3.45->langchain-openai) (24.2)\n",
            "Requirement already satisfied: typing-extensions>=4.7 in /usr/local/lib/python3.11/dist-packages (from langchain-core<1.0.0,>=0.3.45->langchain-openai) (4.12.2)\n",
            "Requirement already satisfied: pydantic<3.0.0,>=2.5.2 in /usr/local/lib/python3.11/dist-packages (from langchain-core<1.0.0,>=0.3.45->langchain-openai) (2.10.6)\n",
            "Requirement already satisfied: anyio<5,>=3.5.0 in /usr/local/lib/python3.11/dist-packages (from openai<2.0.0,>=1.66.3->langchain-openai) (4.9.0)\n",
            "Requirement already satisfied: distro<2,>=1.7.0 in /usr/local/lib/python3.11/dist-packages (from openai<2.0.0,>=1.66.3->langchain-openai) (1.9.0)\n",
            "Requirement already satisfied: httpx<1,>=0.23.0 in /usr/local/lib/python3.11/dist-packages (from openai<2.0.0,>=1.66.3->langchain-openai) (0.28.1)\n",
            "Requirement already satisfied: jiter<1,>=0.4.0 in /usr/local/lib/python3.11/dist-packages (from openai<2.0.0,>=1.66.3->langchain-openai) (0.9.0)\n",
            "Requirement already satisfied: sniffio in /usr/local/lib/python3.11/dist-packages (from openai<2.0.0,>=1.66.3->langchain-openai) (1.3.1)\n",
            "Requirement already satisfied: tqdm>4 in /usr/local/lib/python3.11/dist-packages (from openai<2.0.0,>=1.66.3->langchain-openai) (4.67.1)\n",
            "Requirement already satisfied: regex>=2022.1.18 in /usr/local/lib/python3.11/dist-packages (from tiktoken<1,>=0.7->langchain-openai) (2024.11.6)\n",
            "Requirement already satisfied: requests>=2.26.0 in /usr/local/lib/python3.11/dist-packages (from tiktoken<1,>=0.7->langchain-openai) (2.32.3)\n",
            "Requirement already satisfied: idna>=2.8 in /usr/local/lib/python3.11/dist-packages (from anyio<5,>=3.5.0->openai<2.0.0,>=1.66.3->langchain-openai) (3.10)\n",
            "Requirement already satisfied: certifi in /usr/local/lib/python3.11/dist-packages (from httpx<1,>=0.23.0->openai<2.0.0,>=1.66.3->langchain-openai) (2025.1.31)\n",
            "Requirement already satisfied: httpcore==1.* in /usr/local/lib/python3.11/dist-packages (from httpx<1,>=0.23.0->openai<2.0.0,>=1.66.3->langchain-openai) (1.0.7)\n",
            "Requirement already satisfied: h11<0.15,>=0.13 in /usr/local/lib/python3.11/dist-packages (from httpcore==1.*->httpx<1,>=0.23.0->openai<2.0.0,>=1.66.3->langchain-openai) (0.14.0)\n",
            "Requirement already satisfied: jsonpointer>=1.9 in /usr/local/lib/python3.11/dist-packages (from jsonpatch<2.0,>=1.33->langchain-core<1.0.0,>=0.3.45->langchain-openai) (3.0.0)\n",
            "Requirement already satisfied: orjson<4.0.0,>=3.9.14 in /usr/local/lib/python3.11/dist-packages (from langsmith<0.4,>=0.1.125->langchain-core<1.0.0,>=0.3.45->langchain-openai) (3.10.15)\n",
            "Requirement already satisfied: requests-toolbelt<2.0.0,>=1.0.0 in /usr/local/lib/python3.11/dist-packages (from langsmith<0.4,>=0.1.125->langchain-core<1.0.0,>=0.3.45->langchain-openai) (1.0.0)\n",
            "Requirement already satisfied: zstandard<0.24.0,>=0.23.0 in /usr/local/lib/python3.11/dist-packages (from langsmith<0.4,>=0.1.125->langchain-core<1.0.0,>=0.3.45->langchain-openai) (0.23.0)\n",
            "Requirement already satisfied: annotated-types>=0.6.0 in /usr/local/lib/python3.11/dist-packages (from pydantic<3.0.0,>=2.5.2->langchain-core<1.0.0,>=0.3.45->langchain-openai) (0.7.0)\n",
            "Requirement already satisfied: pydantic-core==2.27.2 in /usr/local/lib/python3.11/dist-packages (from pydantic<3.0.0,>=2.5.2->langchain-core<1.0.0,>=0.3.45->langchain-openai) (2.27.2)\n",
            "Requirement already satisfied: charset-normalizer<4,>=2 in /usr/local/lib/python3.11/dist-packages (from requests>=2.26.0->tiktoken<1,>=0.7->langchain-openai) (3.4.1)\n",
            "Requirement already satisfied: urllib3<3,>=1.21.1 in /usr/local/lib/python3.11/dist-packages (from requests>=2.26.0->tiktoken<1,>=0.7->langchain-openai) (2.3.0)\n",
            "Downloading langchain_openai-0.3.9-py3-none-any.whl (60 kB)\n",
            "\u001b[2K   \u001b[90m━━━━━━━━━━━━━━━━━━━━━━━━━━━━━━━━━━━━━━━━\u001b[0m \u001b[32m60.9/60.9 kB\u001b[0m \u001b[31m3.1 MB/s\u001b[0m eta \u001b[36m0:00:00\u001b[0m\n",
            "\u001b[?25hDownloading tiktoken-0.9.0-cp311-cp311-manylinux_2_17_x86_64.manylinux2014_x86_64.whl (1.2 MB)\n",
            "\u001b[2K   \u001b[90m━━━━━━━━━━━━━━━━━━━━━━━━━━━━━━━━━━━━━━━━\u001b[0m \u001b[32m1.2/1.2 MB\u001b[0m \u001b[31m40.1 MB/s\u001b[0m eta \u001b[36m0:00:00\u001b[0m\n",
            "\u001b[?25hInstalling collected packages: tiktoken, langchain-openai\n",
            "Successfully installed langchain-openai-0.3.9 tiktoken-0.9.0\n",
            "Collecting langgraph\n",
            "  Downloading langgraph-0.3.18-py3-none-any.whl.metadata (7.5 kB)\n",
            "Requirement already satisfied: langchain-core<0.4,>=0.1 in /usr/local/lib/python3.11/dist-packages (from langgraph) (0.3.45)\n",
            "Collecting langgraph-checkpoint<3.0.0,>=2.0.10 (from langgraph)\n",
            "  Downloading langgraph_checkpoint-2.0.21-py3-none-any.whl.metadata (4.6 kB)\n",
            "Collecting langgraph-prebuilt<0.2,>=0.1.1 (from langgraph)\n",
            "  Downloading langgraph_prebuilt-0.1.4-py3-none-any.whl.metadata (5.0 kB)\n",
            "Collecting langgraph-sdk<0.2.0,>=0.1.42 (from langgraph)\n",
            "  Downloading langgraph_sdk-0.1.58-py3-none-any.whl.metadata (1.8 kB)\n",
            "Requirement already satisfied: langsmith<0.4,>=0.1.125 in /usr/local/lib/python3.11/dist-packages (from langchain-core<0.4,>=0.1->langgraph) (0.3.15)\n",
            "Requirement already satisfied: tenacity!=8.4.0,<10.0.0,>=8.1.0 in /usr/local/lib/python3.11/dist-packages (from langchain-core<0.4,>=0.1->langgraph) (9.0.0)\n",
            "Requirement already satisfied: jsonpatch<2.0,>=1.33 in /usr/local/lib/python3.11/dist-packages (from langchain-core<0.4,>=0.1->langgraph) (1.33)\n",
            "Requirement already satisfied: PyYAML>=5.3 in /usr/local/lib/python3.11/dist-packages (from langchain-core<0.4,>=0.1->langgraph) (6.0.2)\n",
            "Requirement already satisfied: packaging<25,>=23.2 in /usr/local/lib/python3.11/dist-packages (from langchain-core<0.4,>=0.1->langgraph) (24.2)\n",
            "Requirement already satisfied: typing-extensions>=4.7 in /usr/local/lib/python3.11/dist-packages (from langchain-core<0.4,>=0.1->langgraph) (4.12.2)\n",
            "Requirement already satisfied: pydantic<3.0.0,>=2.5.2 in /usr/local/lib/python3.11/dist-packages (from langchain-core<0.4,>=0.1->langgraph) (2.10.6)\n",
            "Requirement already satisfied: msgpack<2.0.0,>=1.1.0 in /usr/local/lib/python3.11/dist-packages (from langgraph-checkpoint<3.0.0,>=2.0.10->langgraph) (1.1.0)\n",
            "Requirement already satisfied: httpx>=0.25.2 in /usr/local/lib/python3.11/dist-packages (from langgraph-sdk<0.2.0,>=0.1.42->langgraph) (0.28.1)\n",
            "Requirement already satisfied: orjson>=3.10.1 in /usr/local/lib/python3.11/dist-packages (from langgraph-sdk<0.2.0,>=0.1.42->langgraph) (3.10.15)\n",
            "Requirement already satisfied: anyio in /usr/local/lib/python3.11/dist-packages (from httpx>=0.25.2->langgraph-sdk<0.2.0,>=0.1.42->langgraph) (4.9.0)\n",
            "Requirement already satisfied: certifi in /usr/local/lib/python3.11/dist-packages (from httpx>=0.25.2->langgraph-sdk<0.2.0,>=0.1.42->langgraph) (2025.1.31)\n",
            "Requirement already satisfied: httpcore==1.* in /usr/local/lib/python3.11/dist-packages (from httpx>=0.25.2->langgraph-sdk<0.2.0,>=0.1.42->langgraph) (1.0.7)\n",
            "Requirement already satisfied: idna in /usr/local/lib/python3.11/dist-packages (from httpx>=0.25.2->langgraph-sdk<0.2.0,>=0.1.42->langgraph) (3.10)\n",
            "Requirement already satisfied: h11<0.15,>=0.13 in /usr/local/lib/python3.11/dist-packages (from httpcore==1.*->httpx>=0.25.2->langgraph-sdk<0.2.0,>=0.1.42->langgraph) (0.14.0)\n",
            "Requirement already satisfied: jsonpointer>=1.9 in /usr/local/lib/python3.11/dist-packages (from jsonpatch<2.0,>=1.33->langchain-core<0.4,>=0.1->langgraph) (3.0.0)\n",
            "Requirement already satisfied: requests<3,>=2 in /usr/local/lib/python3.11/dist-packages (from langsmith<0.4,>=0.1.125->langchain-core<0.4,>=0.1->langgraph) (2.32.3)\n",
            "Requirement already satisfied: requests-toolbelt<2.0.0,>=1.0.0 in /usr/local/lib/python3.11/dist-packages (from langsmith<0.4,>=0.1.125->langchain-core<0.4,>=0.1->langgraph) (1.0.0)\n",
            "Requirement already satisfied: zstandard<0.24.0,>=0.23.0 in /usr/local/lib/python3.11/dist-packages (from langsmith<0.4,>=0.1.125->langchain-core<0.4,>=0.1->langgraph) (0.23.0)\n",
            "Requirement already satisfied: annotated-types>=0.6.0 in /usr/local/lib/python3.11/dist-packages (from pydantic<3.0.0,>=2.5.2->langchain-core<0.4,>=0.1->langgraph) (0.7.0)\n",
            "Requirement already satisfied: pydantic-core==2.27.2 in /usr/local/lib/python3.11/dist-packages (from pydantic<3.0.0,>=2.5.2->langchain-core<0.4,>=0.1->langgraph) (2.27.2)\n",
            "Requirement already satisfied: charset-normalizer<4,>=2 in /usr/local/lib/python3.11/dist-packages (from requests<3,>=2->langsmith<0.4,>=0.1.125->langchain-core<0.4,>=0.1->langgraph) (3.4.1)\n",
            "Requirement already satisfied: urllib3<3,>=1.21.1 in /usr/local/lib/python3.11/dist-packages (from requests<3,>=2->langsmith<0.4,>=0.1.125->langchain-core<0.4,>=0.1->langgraph) (2.3.0)\n",
            "Requirement already satisfied: sniffio>=1.1 in /usr/local/lib/python3.11/dist-packages (from anyio->httpx>=0.25.2->langgraph-sdk<0.2.0,>=0.1.42->langgraph) (1.3.1)\n",
            "Downloading langgraph-0.3.18-py3-none-any.whl (136 kB)\n",
            "\u001b[2K   \u001b[90m━━━━━━━━━━━━━━━━━━━━━━━━━━━━━━━━━━━━━━━━\u001b[0m \u001b[32m136.5/136.5 kB\u001b[0m \u001b[31m8.2 MB/s\u001b[0m eta \u001b[36m0:00:00\u001b[0m\n",
            "\u001b[?25hDownloading langgraph_checkpoint-2.0.21-py3-none-any.whl (41 kB)\n",
            "\u001b[2K   \u001b[90m━━━━━━━━━━━━━━━━━━━━━━━━━━━━━━━━━━━━━━━━\u001b[0m \u001b[32m41.2/41.2 kB\u001b[0m \u001b[31m2.4 MB/s\u001b[0m eta \u001b[36m0:00:00\u001b[0m\n",
            "\u001b[?25hDownloading langgraph_prebuilt-0.1.4-py3-none-any.whl (24 kB)\n",
            "Downloading langgraph_sdk-0.1.58-py3-none-any.whl (46 kB)\n",
            "\u001b[2K   \u001b[90m━━━━━━━━━━━━━━━━━━━━━━━━━━━━━━━━━━━━━━━━\u001b[0m \u001b[32m46.5/46.5 kB\u001b[0m \u001b[31m2.3 MB/s\u001b[0m eta \u001b[36m0:00:00\u001b[0m\n",
            "\u001b[?25hInstalling collected packages: langgraph-sdk, langgraph-checkpoint, langgraph-prebuilt, langgraph\n",
            "Successfully installed langgraph-0.3.18 langgraph-checkpoint-2.0.21 langgraph-prebuilt-0.1.4 langgraph-sdk-0.1.58\n",
            "Collecting firecrawl-py\n",
            "  Downloading firecrawl_py-1.14.1-py3-none-any.whl.metadata (10 kB)\n",
            "Requirement already satisfied: requests in /usr/local/lib/python3.11/dist-packages (from firecrawl-py) (2.32.3)\n",
            "Collecting python-dotenv (from firecrawl-py)\n",
            "  Downloading python_dotenv-1.0.1-py3-none-any.whl.metadata (23 kB)\n",
            "Requirement already satisfied: websockets in /usr/local/lib/python3.11/dist-packages (from firecrawl-py) (14.2)\n",
            "Requirement already satisfied: nest-asyncio in /usr/local/lib/python3.11/dist-packages (from firecrawl-py) (1.6.0)\n",
            "Requirement already satisfied: pydantic>=2.10.3 in /usr/local/lib/python3.11/dist-packages (from firecrawl-py) (2.10.6)\n",
            "Requirement already satisfied: annotated-types>=0.6.0 in /usr/local/lib/python3.11/dist-packages (from pydantic>=2.10.3->firecrawl-py) (0.7.0)\n",
            "Requirement already satisfied: pydantic-core==2.27.2 in /usr/local/lib/python3.11/dist-packages (from pydantic>=2.10.3->firecrawl-py) (2.27.2)\n",
            "Requirement already satisfied: typing-extensions>=4.12.2 in /usr/local/lib/python3.11/dist-packages (from pydantic>=2.10.3->firecrawl-py) (4.12.2)\n",
            "Requirement already satisfied: charset-normalizer<4,>=2 in /usr/local/lib/python3.11/dist-packages (from requests->firecrawl-py) (3.4.1)\n",
            "Requirement already satisfied: idna<4,>=2.5 in /usr/local/lib/python3.11/dist-packages (from requests->firecrawl-py) (3.10)\n",
            "Requirement already satisfied: urllib3<3,>=1.21.1 in /usr/local/lib/python3.11/dist-packages (from requests->firecrawl-py) (2.3.0)\n",
            "Requirement already satisfied: certifi>=2017.4.17 in /usr/local/lib/python3.11/dist-packages (from requests->firecrawl-py) (2025.1.31)\n",
            "Downloading firecrawl_py-1.14.1-py3-none-any.whl (19 kB)\n",
            "Downloading python_dotenv-1.0.1-py3-none-any.whl (19 kB)\n",
            "Installing collected packages: python-dotenv, firecrawl-py\n",
            "Successfully installed firecrawl-py-1.14.1 python-dotenv-1.0.1\n"
          ]
        }
      ],
      "source": [
        "!pip install langchain\n",
        "!pip install openai\n",
        "!pip install langchain-openai\n",
        "!pip install langgraph\n",
        "!pip install firecrawl-py"
      ]
    },
    {
      "cell_type": "code",
      "source": [
        "# アニメのジャンル\n",
        "menu = {\"ジャンル\":\n",
        "  [\n",
        "    \"SF/ファンタジー\"\n",
        "    ,\"ロボット・メカ\"\n",
        "    ,\"アクション・バトル\"\n",
        "    ,\"コメディ・ギャグ\"\n",
        "    ,\"恋愛・ラブコメ\"\n",
        "    ,\"日常・ほのぼの\"\n",
        "    ,\"スポーツ・競技\"\n",
        "    ,\"ホラー・サスペンス・推理\"\n",
        "    ,\"歴史・戦記\"\n",
        "    ,\"戦争・ミリタリー\"\n",
        "    ,\"ドラマ・青春\"\n",
        "    ,\"キッズ・ファミリー\"\n",
        "    ,\"ショート\"\n",
        "    ,\"2.5次元舞台\"\n",
        "    ,\"ライブ・ラジオ\"\n",
        "  ]\n",
        "}"
      ],
      "metadata": {
        "id": "ZEMQHKZUnN9w"
      },
      "execution_count": 258,
      "outputs": []
    },
    {
      "cell_type": "code",
      "source": [
        "TEST = True"
      ],
      "metadata": {
        "id": "EYowmdCLXUmc"
      },
      "execution_count": 259,
      "outputs": []
    },
    {
      "cell_type": "code",
      "execution_count": 260,
      "metadata": {
        "id": "C9owhT0-inQY"
      },
      "outputs": [],
      "source": [
        "import os\n",
        "from google.colab import userdata\n",
        "\n",
        "#TODO: APIキーをsecretに登録してください。\n",
        "os.environ[\"OPENAI_API_KEY\"] = userdata.get(\"OPENAI_API_KEY\")\n",
        "os.environ[\"GOOGLE_CSE_ID\"] = userdata.get(\"GOOGLE_CSE_ID\")\n",
        "os.environ[\"GOOGLE_API_KEY\"] = userdata.get(\"GOOGLE_API_KEY\")\n",
        "os.environ[\"FIRE_CRAWL\"] = userdata.get(\"FIRE_CRAWL\")"
      ]
    },
    {
      "cell_type": "code",
      "source": [
        "MAX_REPLY_CNT = 4"
      ],
      "metadata": {
        "id": "zMjbExP-wdlj"
      },
      "execution_count": 261,
      "outputs": []
    },
    {
      "cell_type": "markdown",
      "source": [
        "# Lang GraphによるマルチエージェントAI作成  \n",
        "LangGraphを用いてマルチエージェントを実装します。  \n",
        "- Agent  \n",
        "- AI user\n",
        "  - 特定の役割に沿ってよしなに返答するエージェント\n"
      ],
      "metadata": {
        "id": "qO_Wh4aWiNTy"
      }
    },
    {
      "cell_type": "code",
      "source": [
        "# from langchain.agents import initialize_agent, load_tools\n",
        "from langchain_openai import ChatOpenAI\n"
      ],
      "metadata": {
        "id": "Bk6341BstKiB"
      },
      "execution_count": 169,
      "outputs": []
    },
    {
      "cell_type": "code",
      "source": [
        "llm = ChatOpenAI(model = \"gpt-4o-mini\", api_key=os.environ[\"OPENAI_API_KEY\"])"
      ],
      "metadata": {
        "id": "fGWKcN1rtq8C"
      },
      "execution_count": 176,
      "outputs": []
    },
    {
      "cell_type": "code",
      "source": [
        "from langchain import LLMChain\n",
        "from langchain.prompts import PromptTemplate\n",
        "from langchain.output_parsers import StructuredOutputParser, ResponseSchema\n",
        "\n",
        "from typing import Annotated, Literal, List, Dict, Tuple\n",
        "from typing_extensions import TypedDict\n",
        "from langchain_core.runnables import RunnableConfig\n",
        "from langgraph.graph import StateGraph\n",
        "from IPython.display import Image, display\n",
        "\n",
        "import random\n"
      ],
      "metadata": {
        "id": "z1His_oGS2KJ"
      },
      "execution_count": 264,
      "outputs": []
    },
    {
      "cell_type": "code",
      "source": [
        "def get_output_with_schema(name, description, template, input_variables, input_values):\n",
        "    \"\"\"\n",
        "      プロンプトに対する応答を特定のjson formatで受け取る。\n",
        "    \"\"\"\n",
        "\n",
        "    # ここでスキーマを定義。\n",
        "    response_schemas = [\n",
        "        ResponseSchema(\n",
        "            name=name,\n",
        "            description=description\n",
        "        )\n",
        "    ]\n",
        "\n",
        "    # スキーマを元に、「出力はJSON形式でお願いします」的なプロンプトを考えてくれる。\n",
        "    output_parser = StructuredOutputParser.from_response_schemas(response_schemas)\n",
        "    format_instructions = output_parser.get_format_instructions()\n",
        "\n",
        "    prompt = PromptTemplate(\n",
        "        template=template,\n",
        "        input_variables=input_variables,\n",
        "        # フォーマット指示をプロンプトへ差し込む\n",
        "        partial_variables={\"format_instructions\": format_instructions} #かならず元promptに{format_instructions}を入れること！\n",
        "    )\n",
        "\n",
        "    chain = LLMChain(\n",
        "        llm=llm,\n",
        "        prompt=prompt\n",
        "    )\n",
        "\n",
        "    # requirement = \"チョコレートが好きなアイドル\"\n",
        "\n",
        "    dic = {}\n",
        "    for name, val in zip(input_variables, input_values):\n",
        "      dic[name] = val\n",
        "\n",
        "    raw_output = chain.run(dic)\n",
        "\n",
        "    # 事前定義したスキーマを元に、json⇒辞書の変換を勝手にやってくれる。\n",
        "    parsed_output = output_parser.parse(raw_output)\n",
        "\n",
        "    return parsed_output\n",
        "\n"
      ],
      "metadata": {
        "id": "jOPeTEZQo1Z7"
      },
      "execution_count": 265,
      "outputs": []
    },
    {
      "cell_type": "code",
      "execution_count": 266,
      "metadata": {
        "id": "LOr0bBRQXVv4"
      },
      "outputs": [],
      "source": [
        "class State(TypedDict):\n",
        "    menu: Dict[str, List[str]]\n",
        "    grand_truth: Dict[str, List[str]]\n",
        "\n",
        "    counter: int   # step\n",
        "    agent_role: Dict[str, List[str]]\n",
        "    chatlog: List[Tuple[str, str]]\n",
        "    ans: Dict[str, str]\n",
        "    current_categ: str\n",
        "    end: bool"
      ]
    },
    {
      "cell_type": "code",
      "source": [
        "def init_state(state: State, config: RunnableConfig):\n",
        "\n",
        "  state[\"menu\"] = menu\n",
        "  state[\"counter\"] = MAX_REPLY_CNT\n",
        "\n",
        "  state[\"chatlog\"] = []\n",
        "  state[\"end\"] = False\n",
        "\n",
        "  state[\"current_categ\"] = \"ジャンル\"\n",
        "\n",
        "  return state\n"
      ],
      "metadata": {
        "id": "erPcdxVUwQ8j"
      },
      "execution_count": 267,
      "outputs": []
    },
    {
      "cell_type": "code",
      "source": [
        "def loop(state: State, config: RunnableConfig):\n",
        "    \"\"\"\n",
        "      ループカウンタを管理\n",
        "    \"\"\"\n",
        "\n",
        "    state[\"counter\"] -= 1\n",
        "\n",
        "\n",
        "\n",
        "    return state  # ループを続ける"
      ],
      "metadata": {
        "id": "1DGD1I83qwJY"
      },
      "execution_count": 268,
      "outputs": []
    },
    {
      "cell_type": "code",
      "source": [
        "def routing(state: State, config: RunnableConfig) -> Literal[\"loop\", \"end_node\"]:\n",
        "\n",
        "  if state[\"end\"] or state[\"counter\"] <= 0:\n",
        "    # カウンターが正なら戻る\n",
        "    return \"end_node\"\n",
        "\n",
        "  else:\n",
        "    # カウンターが負けなら次へ\n",
        "    return \"loop\""
      ],
      "metadata": {
        "id": "BwHw8QMyqmp9"
      },
      "execution_count": 269,
      "outputs": []
    },
    {
      "cell_type": "code",
      "source": [
        "def reply_to_user(state: State, config: RunnableConfig):\n",
        "  prompt = \"\"\"\n",
        "  あなたはプロのアニメ評論家です。\n",
        "  evaluatorと協力し、ユーザーとの対話を通じて会話を楽しみつつ以下の嗜好を聞き出すのが任務です。\n",
        "  あなたがユーザーに応答した後、ユーザーが応答し、evaluatorがユーザーのやりとりから嗜好を抽出できるか判断します。\n",
        "  [留意点]に注意しつつ、適切な返答を出力してください。\n",
        "\n",
        "  [項目]: {name}\n",
        "  [選択肢]: {choice}\n",
        "\n",
        "  [これまでのやりとり]\n",
        "  {chatlog}\n",
        "\n",
        "  [留意点]:\n",
        "  1. ユーザーにとって自然な会話になるように意識してください。ユーザーに嗜好の聞き出しが目的であると悟られないように注意してください。\n",
        "  2. ユーザーへの傾聴を心がけてください。ユーザーに会話を楽しませるのが目的であることも忘れないでください。\n",
        "  2. 必ずしもこの応答の中で嗜好を聞き出す必要はありません。相手の応答を想定し、複数回のやり取りの後で嗜好が判明するでもかまいません。\n",
        "\n",
        "  # 以下の指示を守って、出力してください\n",
        "  {format_instructions}\n",
        "\n",
        "  \"\"\"\n",
        "\n",
        "  chatlog_str = \"\"\n",
        "  for i in state[\"chatlog\"]:\n",
        "    chatlog_str += i[0]\n",
        "    chatlog_str += \": \"\n",
        "    chatlog_str += i[1]\n",
        "    chatlog_str += \"\\n\"\n",
        "\n",
        "\n",
        "  ans = get_output_with_schema(\n",
        "      \"reply_to_user\",\n",
        "      prompt,\n",
        "      template = prompt,\n",
        "      input_variables = [\"name\", \"choice\", \"chatlog\"],\n",
        "      input_values = [state[\"current_categ\"], state[\"menu\"][state[\"current_categ\"]], chatlog_str]\n",
        "  )[\"reply_to_user\"]\n",
        "\n",
        "  print(f\"agent: {ans}\")\n",
        "\n",
        "  state[\"chatlog\"].append((\"agent\", ans))\n",
        "  return state"
      ],
      "metadata": {
        "id": "-Um8R3Ov1rur"
      },
      "execution_count": 270,
      "outputs": []
    },
    {
      "cell_type": "code",
      "source": [
        "def user_action(state: State, config: RunnableConfig):\n",
        "\n",
        "  if \"agent_role\" not in state.keys(): #エージェントの役割が指定されていないなら人間が応答\n",
        "    # human reply mode\n",
        "    user_input = input(\"user: \")\n",
        "\n",
        "  state[\"chatlog\"].append((\"human\", user_input))\n",
        "  return state"
      ],
      "metadata": {
        "id": "7_kT5GL4tBpk"
      },
      "execution_count": 271,
      "outputs": []
    },
    {
      "cell_type": "code",
      "source": [
        "def evaluate_dialog(state: State, config: RunnableConfig):\n",
        "  prompt = \"\"\"\n",
        "  あなたはプロのアニメ評論家です。\n",
        "  ユーザーとエージェントのやり取りの中からユーザーのpreferenceとして当てはまると確信できるものがあれば[選択肢]の中から選んで出力してください。\n",
        "  ユーザー入力から判断が難しい場合や[選択肢]に最適なものがない場合は後に述べる入力フォーマットに従いpreferenceのvalueとして\"None\"のみを出力してください。\n",
        "\n",
        "  各ヒアリング項目の選択肢の組は以下の通りです。\n",
        "  [項目]: {name}\n",
        "  [選択肢]: {choice}\n",
        "\n",
        "  ユーザー入力\n",
        "  {user_input}\n",
        "\n",
        "  # 以下の指示を守って、出力してください\n",
        "  {format_instructions}\n",
        "\n",
        "\n",
        "  \"\"\"\n",
        "\n",
        "  user_input = state[\"chatlog\"][-1][1]\n",
        "\n",
        "  ans = get_output_with_schema(\n",
        "      \"preference\",\n",
        "      \"ユーザーの嗜好\",\n",
        "      template = prompt,\n",
        "      input_variables = [\"name\", \"choice\", \"user_input\"],\n",
        "      input_values = [state[\"current_categ\"], state[\"menu\"][state[\"current_categ\"]], user_input]\n",
        "  )[\"preference\"]\n",
        "\n",
        "  print(f\"evaluator: {ans}\")\n",
        "\n",
        "\n",
        "  state[\"chatlog\"].append((\"evaluator\", ans))\n",
        "\n",
        "  if ans != \"None\":\n",
        "    state[\"ans\"] = {state[\"current_categ\"]: ans}\n",
        "    state[\"end\"] = True\n",
        "\n",
        "  return state"
      ],
      "metadata": {
        "id": "oBmMxNTowDGN"
      },
      "execution_count": 272,
      "outputs": []
    },
    {
      "cell_type": "code",
      "source": [
        "def end_node(state: State, config: RunnableConfig):\n",
        "  return state"
      ],
      "metadata": {
        "id": "SwdQPlLYyF1u"
      },
      "execution_count": 273,
      "outputs": []
    },
    {
      "cell_type": "code",
      "execution_count": 274,
      "metadata": {
        "colab": {
          "base_uri": "https://localhost:8080/"
        },
        "id": "NlkguHYxYtES",
        "outputId": "5074516a-d72b-4182-a08b-c6da9a00b0ba"
      },
      "outputs": [
        {
          "output_type": "execute_result",
          "data": {
            "text/plain": [
              "<langgraph.graph.state.StateGraph at 0x7e4380f84bd0>"
            ]
          },
          "metadata": {},
          "execution_count": 274
        }
      ],
      "source": [
        "# ノードを定義していく\n",
        "graph_builder = StateGraph(State)\n",
        "graph_builder.add_node(\"init_state\", init_state)\n",
        "graph_builder.add_node(\"loop\", loop)\n",
        "graph_builder.add_node(\"user_action\", user_action)\n",
        "graph_builder.add_node(\"reply_to_user\", reply_to_user)\n",
        "graph_builder.add_node(\"evaluate_dialog\", evaluate_dialog)\n",
        "graph_builder.add_node(\"end_node\", end_node)\n",
        "\n",
        "graph_builder.set_entry_point(\"init_state\")\n",
        "\n"
      ]
    },
    {
      "cell_type": "code",
      "execution_count": 275,
      "metadata": {
        "colab": {
          "base_uri": "https://localhost:8080/"
        },
        "id": "hYgyvlzEY3Or",
        "outputId": "c5330131-7068-4ebc-d3cd-faf2997d7401"
      },
      "outputs": [
        {
          "output_type": "execute_result",
          "data": {
            "text/plain": [
              "<langgraph.graph.state.StateGraph at 0x7e4380f84bd0>"
            ]
          },
          "metadata": {},
          "execution_count": 275
        }
      ],
      "source": [
        "# エッジを設置。遷移図を定義\n",
        "\n",
        "graph_builder.add_edge(\"init_state\", \"loop\")\n",
        "graph_builder.add_edge(\"loop\", \"reply_to_user\")\n",
        "graph_builder.add_edge(\"reply_to_user\", \"user_action\")\n",
        "graph_builder.add_edge(\"user_action\", \"evaluate_dialog\")\n",
        "# 条件付き分岐を実装\n",
        "graph_builder.add_conditional_edges(\n",
        "    \"evaluate_dialog\",# 遷移元\n",
        "    routing,\n",
        "    # 条件を満たさないならloopへもどる、そうでないならsuisenへ\n",
        ")\n",
        "\n",
        "\n",
        "\n",
        "\n",
        "graph_builder.set_finish_point(\"end_node\")"
      ]
    },
    {
      "cell_type": "code",
      "source": [
        "# Graphをコンパイル\n",
        "graph = graph_builder.compile()\n",
        "# Graphの実行(引数にはStateの初期値を渡す)\n",
        "state = graph.invoke(\n",
        "  {}\n",
        ")"
      ],
      "metadata": {
        "colab": {
          "base_uri": "https://localhost:8080/"
        },
        "id": "S0u_rbs9x0HH",
        "outputId": "2115ec78-ceea-4208-ddf3-ed3525ac51c4"
      },
      "execution_count": 276,
      "outputs": [
        {
          "output_type": "stream",
          "name": "stdout",
          "text": [
            "agent: 最近、どんなアニメを観ましたか？それとも、昔の作品で特に好きなものがありますか？皆さんのオススメも教えてください！\n",
            "user: エウレカセブンを見ました！\n",
            "evaluator: SF/ファンタジー\n"
          ]
        }
      ]
    },
    {
      "cell_type": "code",
      "execution_count": 249,
      "metadata": {
        "colab": {
          "base_uri": "https://localhost:8080/"
        },
        "id": "BKWZM35YXbOM",
        "outputId": "c88e9d63-12fc-4e48-ed6e-26e499ef590a"
      },
      "outputs": [
        {
          "output_type": "stream",
          "name": "stdout",
          "text": [
            "agent: こんにちは！最近、どんなアニメを観ましたか？アニメについて話すのはいつも楽しいですよね。\n",
            "user: ガールズバンドクライを見ました！\n",
            "evaluator: {'preference': 'None'}\n",
            "agent: ガールズバンドクライは素晴らしいですね！音楽と友情の要素が巧妙に組み合わさっていますよね。他に好きなアニメや特に印象に残ったシーンはありますか？\n",
            "user: 他だとバンドリですかねー\n",
            "evaluator: {'preference': 'None'}\n",
            "agent: バンドリもいいですね！音楽とバンドの成長が描かれているところが特に魅力的ですよね。音楽がテーマのアニメは他にもたくさんありますが、どの作品もそれぞれに個性的なキャラクターがいて、見ていて楽しいです。他にはどんなジャンルのアニメが好きですか？\n",
            "user: ぼっちざろっくとかも見ました\n",
            "evaluator: {'preference': 'None'}\n",
            "agent: ぼっちざろっくも素晴らしい作品ですね！特にキャラクターたちが成長していく姿が素敵です。自分の居場所を見つける過程は、観ていてとても感情移入できますよね。もしかして、他の音楽関連の作品も詳しいですか？それとも、他のジャンルのアニメにも興味があるのでしょうか？\n",
            "user: うーん、音楽系しか見ないかもしれません。\n",
            "evaluator: {'preference': 'None'}\n"
          ]
        }
      ],
      "source": [
        "# Graphをコンパイル\n",
        "graph = graph_builder.compile()\n",
        "# Graphの実行(引数にはStateの初期値を渡す)\n",
        "state = graph.invoke(\n",
        "  {}\n",
        ")"
      ]
    },
    {
      "cell_type": "code",
      "source": [
        "# Graphをコンパイル\n",
        "graph = graph_builder.compile()\n",
        "# Graphの実行(引数にはStateの初期値を渡す)\n",
        "state = graph.invoke(\n",
        "  {}\n",
        ")"
      ],
      "metadata": {
        "colab": {
          "base_uri": "https://localhost:8080/"
        },
        "id": "R8ErWvGxw6kY",
        "outputId": "a44769ae-09b5-48e1-e493-46acd9636e8d"
      },
      "execution_count": 250,
      "outputs": [
        {
          "output_type": "stream",
          "name": "stdout",
          "text": [
            "agent: こんにちは！最近、どんなアニメを観ましたか？何かお気に入りの作品やジャンルがあれば教えていただけると嬉しいです！\n",
            "user: そんなことより数学の話をしましょう\n",
            "evaluator: {'preference': 'None'}\n",
            "agent: もちろん、数学も面白いですね！どんなことに興味がありますか？例えば、数学の面白さや日常生活との関わりについてお話しするのも良いかもしれませんね。それとも、最近見たアニメの中で数学がテーマになっている作品とかありますか？\n",
            "user: 主に統計学ですね。\n",
            "evaluator: {'preference': 'None'}\n",
            "agent: 統計学はとても興味深いですね！データの分析や傾向を見つけるのがすごく面白いです。最近、統計学に関連する映画やアニメがあれば教えてほしいです。もちろん、アニメの中には面白いキャラクターやストーリーもたくさんありますので、もし好きな作品があれば教えてもらえますか？\n",
            "user: 統計学に関連するアニメ...しいて言うなら「チ。」とかですかねえ\n",
            "evaluator: {'preference': 'None'}\n",
            "agent: 「チ。」は確かに独特な視点のアニメですね！統計学をテーマにしたアニメというのは面白い試みだと思います。他にも数学やデータに関連した面白いキャラクターのいる作品はありますか？特に好きなシリーズやジャンルがあれば教えてください！\n",
            "user: そういえばテニスの王子様とかにはデータ系の眼鏡のキャラがでてくるっすよね\n",
            "evaluator: {'preference': 'スポーツ・競技'}\n"
          ]
        }
      ]
    },
    {
      "cell_type": "code",
      "source": [
        "mermaid_code = graph.get_graph().draw_mermaid()\n",
        "print(mermaid_code)  # 出力を確認"
      ],
      "metadata": {
        "colab": {
          "base_uri": "https://localhost:8080/"
        },
        "id": "YJYr_2t4Ltsg",
        "outputId": "9902ec77-c12c-4c03-bf16-70c36b8fccac"
      },
      "execution_count": 257,
      "outputs": [
        {
          "output_type": "stream",
          "name": "stdout",
          "text": [
            "%%{init: {'flowchart': {'curve': 'linear'}}}%%\n",
            "graph TD;\n",
            "\t__start__([<p>__start__</p>]):::first\n",
            "\tinit_state(init_state)\n",
            "\tloop(loop)\n",
            "\tuser_action(user_action)\n",
            "\treplay_to_user(replay_to_user)\n",
            "\tevaluate_dialog(evaluate_dialog)\n",
            "\tend_node(end_node)\n",
            "\t__end__([<p>__end__</p>]):::last\n",
            "\t__start__ --> init_state;\n",
            "\tend_node --> __end__;\n",
            "\tinit_state --> loop;\n",
            "\tloop --> replay_to_user;\n",
            "\treplay_to_user --> user_action;\n",
            "\tuser_action --> evaluate_dialog;\n",
            "\tevaluate_dialog -.-> loop;\n",
            "\tevaluate_dialog -.-> end_node;\n",
            "\tclassDef default fill:#f2f0ff,line-height:1.2\n",
            "\tclassDef first fill-opacity:0\n",
            "\tclassDef last fill:#bfb6fc\n",
            "\n"
          ]
        }
      ]
    },
    {
      "cell_type": "markdown",
      "source": [
        "![image.png](data:image/png;base64,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)"
      ],
      "metadata": {
        "id": "j3Le1NxizDjH"
      }
    }
  ],
  "metadata": {
    "colab": {
      "provenance": [],
      "authorship_tag": "ABX9TyMDYn5q/fgzlhZuGvsZBN0o",
      "include_colab_link": true
    },
    "kernelspec": {
      "display_name": "Python 3",
      "name": "python3"
    },
    "language_info": {
      "name": "python"
    }
  },
  "nbformat": 4,
  "nbformat_minor": 0
}